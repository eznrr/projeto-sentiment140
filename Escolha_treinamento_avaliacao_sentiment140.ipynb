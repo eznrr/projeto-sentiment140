{
  "nbformat": 4,
  "nbformat_minor": 0,
  "metadata": {
    "colab": {
      "provenance": [],
      "include_colab_link": true
    },
    "kernelspec": {
      "name": "python3",
      "display_name": "Python 3"
    },
    "language_info": {
      "name": "python"
    }
  },
  "cells": [
    {
      "cell_type": "markdown",
      "metadata": {
        "id": "view-in-github",
        "colab_type": "text"
      },
      "source": [
        "<a href=\"https://colab.research.google.com/github/eznrr/projeto-sentiment140/blob/main/Escolha_treinamento_avaliacao_sentiment140.ipynb\" target=\"_parent\"><img src=\"https://colab.research.google.com/assets/colab-badge.svg\" alt=\"Open In Colab\"/></a>"
      ]
    },
    {
      "cell_type": "code",
      "source": [
        "from google.colab import drive\n",
        "drive.mount('/content/drive')"
      ],
      "metadata": {
        "id": "MzoQ_HwI-bMR",
        "colab": {
          "base_uri": "https://localhost:8080/"
        },
        "outputId": "8d204e87-94ff-45e3-c3d6-66028ac830a4"
      },
      "execution_count": null,
      "outputs": [
        {
          "output_type": "stream",
          "name": "stdout",
          "text": [
            "Mounted at /content/drive\n"
          ]
        }
      ]
    },
    {
      "cell_type": "code",
      "source": [
        "# Bibliotecas\n",
        "import pandas as pd\n",
        "import numpy as np\n",
        "import matplotlib.pyplot as plt\n",
        "import seaborn as sns\n",
        "from sklearn.feature_extraction.text import TfidfVectorizer\n",
        "from sklearn.model_selection import train_test_split, GridSearchCV, KFold\n",
        "from sklearn.naive_bayes import MultinomialNB\n",
        "from sklearn.linear_model import LogisticRegression\n",
        "from sklearn.neural_network import MLPClassifier\n",
        "from sklearn.preprocessing import label_binarize\n",
        "from sklearn.metrics import accuracy_score"
      ],
      "metadata": {
        "id": "RoV5gbBQ_IAA"
      },
      "execution_count": null,
      "outputs": []
    },
    {
      "cell_type": "code",
      "source": [
        "df = pd.read_csv('/content/drive/MyDrive/projeto-oficina-sentiment140/DataFrame/sentiment_limpo.csv', encoding='utf-8')"
      ],
      "metadata": {
        "id": "yJ-3Z9uR-ztr"
      },
      "execution_count": null,
      "outputs": []
    },
    {
      "cell_type": "code",
      "source": [
        "df.isnull().sum()"
      ],
      "metadata": {
        "colab": {
          "base_uri": "https://localhost:8080/",
          "height": 272
        },
        "id": "GOSCbKXT2-j5",
        "outputId": "3d86375f-05eb-47e6-c8fd-b5f2d47f5c7f"
      },
      "execution_count": null,
      "outputs": [
        {
          "output_type": "execute_result",
          "data": {
            "text/plain": [
              "target           0\n",
              "id               0\n",
              "date             0\n",
              "user             0\n",
              "text             0\n",
              "clean_text    7437\n",
              "dtype: int64"
            ],
            "text/html": [
              "<div>\n",
              "<style scoped>\n",
              "    .dataframe tbody tr th:only-of-type {\n",
              "        vertical-align: middle;\n",
              "    }\n",
              "\n",
              "    .dataframe tbody tr th {\n",
              "        vertical-align: top;\n",
              "    }\n",
              "\n",
              "    .dataframe thead th {\n",
              "        text-align: right;\n",
              "    }\n",
              "</style>\n",
              "<table border=\"1\" class=\"dataframe\">\n",
              "  <thead>\n",
              "    <tr style=\"text-align: right;\">\n",
              "      <th></th>\n",
              "      <th>0</th>\n",
              "    </tr>\n",
              "  </thead>\n",
              "  <tbody>\n",
              "    <tr>\n",
              "      <th>target</th>\n",
              "      <td>0</td>\n",
              "    </tr>\n",
              "    <tr>\n",
              "      <th>id</th>\n",
              "      <td>0</td>\n",
              "    </tr>\n",
              "    <tr>\n",
              "      <th>date</th>\n",
              "      <td>0</td>\n",
              "    </tr>\n",
              "    <tr>\n",
              "      <th>user</th>\n",
              "      <td>0</td>\n",
              "    </tr>\n",
              "    <tr>\n",
              "      <th>text</th>\n",
              "      <td>0</td>\n",
              "    </tr>\n",
              "    <tr>\n",
              "      <th>clean_text</th>\n",
              "      <td>7437</td>\n",
              "    </tr>\n",
              "  </tbody>\n",
              "</table>\n",
              "</div><br><label><b>dtype:</b> int64</label>"
            ]
          },
          "metadata": {},
          "execution_count": 5
        }
      ]
    },
    {
      "cell_type": "code",
      "source": [
        "df.dropna(inplace=True)\n",
        "df.isnull().sum()"
      ],
      "metadata": {
        "colab": {
          "base_uri": "https://localhost:8080/",
          "height": 272
        },
        "id": "nROrLlE63Bwq",
        "outputId": "1a531b33-5710-4800-fc5d-c27d54c8664f"
      },
      "execution_count": null,
      "outputs": [
        {
          "output_type": "execute_result",
          "data": {
            "text/plain": [
              "target        0\n",
              "id            0\n",
              "date          0\n",
              "user          0\n",
              "text          0\n",
              "clean_text    0\n",
              "dtype: int64"
            ],
            "text/html": [
              "<div>\n",
              "<style scoped>\n",
              "    .dataframe tbody tr th:only-of-type {\n",
              "        vertical-align: middle;\n",
              "    }\n",
              "\n",
              "    .dataframe tbody tr th {\n",
              "        vertical-align: top;\n",
              "    }\n",
              "\n",
              "    .dataframe thead th {\n",
              "        text-align: right;\n",
              "    }\n",
              "</style>\n",
              "<table border=\"1\" class=\"dataframe\">\n",
              "  <thead>\n",
              "    <tr style=\"text-align: right;\">\n",
              "      <th></th>\n",
              "      <th>0</th>\n",
              "    </tr>\n",
              "  </thead>\n",
              "  <tbody>\n",
              "    <tr>\n",
              "      <th>target</th>\n",
              "      <td>0</td>\n",
              "    </tr>\n",
              "    <tr>\n",
              "      <th>id</th>\n",
              "      <td>0</td>\n",
              "    </tr>\n",
              "    <tr>\n",
              "      <th>date</th>\n",
              "      <td>0</td>\n",
              "    </tr>\n",
              "    <tr>\n",
              "      <th>user</th>\n",
              "      <td>0</td>\n",
              "    </tr>\n",
              "    <tr>\n",
              "      <th>text</th>\n",
              "      <td>0</td>\n",
              "    </tr>\n",
              "    <tr>\n",
              "      <th>clean_text</th>\n",
              "      <td>0</td>\n",
              "    </tr>\n",
              "  </tbody>\n",
              "</table>\n",
              "</div><br><label><b>dtype:</b> int64</label>"
            ]
          },
          "metadata": {},
          "execution_count": 6
        }
      ]
    },
    {
      "cell_type": "markdown",
      "source": [
        "# Modelagem"
      ],
      "metadata": {
        "id": "YYxz-U3onjOT"
      }
    },
    {
      "cell_type": "code",
      "source": [
        "df"
      ],
      "metadata": {
        "colab": {
          "base_uri": "https://localhost:8080/",
          "height": 424
        },
        "id": "GbmvkHSc60QZ",
        "outputId": "073bf20e-39bf-4497-e8ce-2010349f1da0"
      },
      "execution_count": null,
      "outputs": [
        {
          "output_type": "execute_result",
          "data": {
            "text/plain": [
              "         target          id                          date             user  \\\n",
              "0             0  1467810672  Mon Apr 06 22:19:49 PDT 2009    scotthamilton   \n",
              "1             0  1467810917  Mon Apr 06 22:19:53 PDT 2009         mattycus   \n",
              "2             0  1467811184  Mon Apr 06 22:19:57 PDT 2009          ElleCTF   \n",
              "3             0  1467811193  Mon Apr 06 22:19:57 PDT 2009           Karoli   \n",
              "4             0  1467811372  Mon Apr 06 22:20:00 PDT 2009         joy_wolf   \n",
              "...         ...         ...                           ...              ...   \n",
              "1599994       4  2193601966  Tue Jun 16 08:40:49 PDT 2009  AmandaMarie1028   \n",
              "1599995       4  2193601969  Tue Jun 16 08:40:49 PDT 2009      TheWDBoards   \n",
              "1599996       4  2193601991  Tue Jun 16 08:40:49 PDT 2009           bpbabe   \n",
              "1599997       4  2193602064  Tue Jun 16 08:40:49 PDT 2009     tinydiamondz   \n",
              "1599998       4  2193602129  Tue Jun 16 08:40:50 PDT 2009   RyanTrevMorris   \n",
              "\n",
              "                                                      text  \\\n",
              "0        is upset that he cant update his Facebook by t...   \n",
              "1         I dived many times for the ball Managed to sa...   \n",
              "2          my whole body feels itchy and like its on fire    \n",
              "3         no its not behaving at all im mad why am i he...   \n",
              "4                                      not the whole crew    \n",
              "...                                                    ...   \n",
              "1599994  Just woke up Having no school is the best feel...   \n",
              "1599995  TheWDBcom  Very cool to hear old Walt intervie...   \n",
              "1599996  Are you ready for your MoJo Makeover Ask me fo...   \n",
              "1599997  Happy 38th Birthday to my boo of alll time Tup...   \n",
              "1599998                           happy charitytuesday       \n",
              "\n",
              "                                                clean_text  \n",
              "0        upset cant update facebook texting might cry r...  \n",
              "1        dived many times ball managed save 50 rest go ...  \n",
              "2                         whole body feels itchy like fire  \n",
              "3                                 behaving im mad cant see  \n",
              "4                                               whole crew  \n",
              "...                                                    ...  \n",
              "1599994                      woke school best feeling ever  \n",
              "1599995            thewdbcom cool hear old walt interviews  \n",
              "1599996                    ready mojo makeover ask details  \n",
              "1599997  happy 38th birthday boo alll time tupac amaru ...  \n",
              "1599998                               happy charitytuesday  \n",
              "\n",
              "[1592562 rows x 6 columns]"
            ],
            "text/html": [
              "\n",
              "  <div id=\"df-73b82968-15cd-4f90-9f27-99f319308ffc\" class=\"colab-df-container\">\n",
              "    <div>\n",
              "<style scoped>\n",
              "    .dataframe tbody tr th:only-of-type {\n",
              "        vertical-align: middle;\n",
              "    }\n",
              "\n",
              "    .dataframe tbody tr th {\n",
              "        vertical-align: top;\n",
              "    }\n",
              "\n",
              "    .dataframe thead th {\n",
              "        text-align: right;\n",
              "    }\n",
              "</style>\n",
              "<table border=\"1\" class=\"dataframe\">\n",
              "  <thead>\n",
              "    <tr style=\"text-align: right;\">\n",
              "      <th></th>\n",
              "      <th>target</th>\n",
              "      <th>id</th>\n",
              "      <th>date</th>\n",
              "      <th>user</th>\n",
              "      <th>text</th>\n",
              "      <th>clean_text</th>\n",
              "    </tr>\n",
              "  </thead>\n",
              "  <tbody>\n",
              "    <tr>\n",
              "      <th>0</th>\n",
              "      <td>0</td>\n",
              "      <td>1467810672</td>\n",
              "      <td>Mon Apr 06 22:19:49 PDT 2009</td>\n",
              "      <td>scotthamilton</td>\n",
              "      <td>is upset that he cant update his Facebook by t...</td>\n",
              "      <td>upset cant update facebook texting might cry r...</td>\n",
              "    </tr>\n",
              "    <tr>\n",
              "      <th>1</th>\n",
              "      <td>0</td>\n",
              "      <td>1467810917</td>\n",
              "      <td>Mon Apr 06 22:19:53 PDT 2009</td>\n",
              "      <td>mattycus</td>\n",
              "      <td>I dived many times for the ball Managed to sa...</td>\n",
              "      <td>dived many times ball managed save 50 rest go ...</td>\n",
              "    </tr>\n",
              "    <tr>\n",
              "      <th>2</th>\n",
              "      <td>0</td>\n",
              "      <td>1467811184</td>\n",
              "      <td>Mon Apr 06 22:19:57 PDT 2009</td>\n",
              "      <td>ElleCTF</td>\n",
              "      <td>my whole body feels itchy and like its on fire</td>\n",
              "      <td>whole body feels itchy like fire</td>\n",
              "    </tr>\n",
              "    <tr>\n",
              "      <th>3</th>\n",
              "      <td>0</td>\n",
              "      <td>1467811193</td>\n",
              "      <td>Mon Apr 06 22:19:57 PDT 2009</td>\n",
              "      <td>Karoli</td>\n",
              "      <td>no its not behaving at all im mad why am i he...</td>\n",
              "      <td>behaving im mad cant see</td>\n",
              "    </tr>\n",
              "    <tr>\n",
              "      <th>4</th>\n",
              "      <td>0</td>\n",
              "      <td>1467811372</td>\n",
              "      <td>Mon Apr 06 22:20:00 PDT 2009</td>\n",
              "      <td>joy_wolf</td>\n",
              "      <td>not the whole crew</td>\n",
              "      <td>whole crew</td>\n",
              "    </tr>\n",
              "    <tr>\n",
              "      <th>...</th>\n",
              "      <td>...</td>\n",
              "      <td>...</td>\n",
              "      <td>...</td>\n",
              "      <td>...</td>\n",
              "      <td>...</td>\n",
              "      <td>...</td>\n",
              "    </tr>\n",
              "    <tr>\n",
              "      <th>1599994</th>\n",
              "      <td>4</td>\n",
              "      <td>2193601966</td>\n",
              "      <td>Tue Jun 16 08:40:49 PDT 2009</td>\n",
              "      <td>AmandaMarie1028</td>\n",
              "      <td>Just woke up Having no school is the best feel...</td>\n",
              "      <td>woke school best feeling ever</td>\n",
              "    </tr>\n",
              "    <tr>\n",
              "      <th>1599995</th>\n",
              "      <td>4</td>\n",
              "      <td>2193601969</td>\n",
              "      <td>Tue Jun 16 08:40:49 PDT 2009</td>\n",
              "      <td>TheWDBoards</td>\n",
              "      <td>TheWDBcom  Very cool to hear old Walt intervie...</td>\n",
              "      <td>thewdbcom cool hear old walt interviews</td>\n",
              "    </tr>\n",
              "    <tr>\n",
              "      <th>1599996</th>\n",
              "      <td>4</td>\n",
              "      <td>2193601991</td>\n",
              "      <td>Tue Jun 16 08:40:49 PDT 2009</td>\n",
              "      <td>bpbabe</td>\n",
              "      <td>Are you ready for your MoJo Makeover Ask me fo...</td>\n",
              "      <td>ready mojo makeover ask details</td>\n",
              "    </tr>\n",
              "    <tr>\n",
              "      <th>1599997</th>\n",
              "      <td>4</td>\n",
              "      <td>2193602064</td>\n",
              "      <td>Tue Jun 16 08:40:49 PDT 2009</td>\n",
              "      <td>tinydiamondz</td>\n",
              "      <td>Happy 38th Birthday to my boo of alll time Tup...</td>\n",
              "      <td>happy 38th birthday boo alll time tupac amaru ...</td>\n",
              "    </tr>\n",
              "    <tr>\n",
              "      <th>1599998</th>\n",
              "      <td>4</td>\n",
              "      <td>2193602129</td>\n",
              "      <td>Tue Jun 16 08:40:50 PDT 2009</td>\n",
              "      <td>RyanTrevMorris</td>\n",
              "      <td>happy charitytuesday</td>\n",
              "      <td>happy charitytuesday</td>\n",
              "    </tr>\n",
              "  </tbody>\n",
              "</table>\n",
              "<p>1592562 rows × 6 columns</p>\n",
              "</div>\n",
              "    <div class=\"colab-df-buttons\">\n",
              "\n",
              "  <div class=\"colab-df-container\">\n",
              "    <button class=\"colab-df-convert\" onclick=\"convertToInteractive('df-73b82968-15cd-4f90-9f27-99f319308ffc')\"\n",
              "            title=\"Convert this dataframe to an interactive table.\"\n",
              "            style=\"display:none;\">\n",
              "\n",
              "  <svg xmlns=\"http://www.w3.org/2000/svg\" height=\"24px\" viewBox=\"0 -960 960 960\">\n",
              "    <path d=\"M120-120v-720h720v720H120Zm60-500h600v-160H180v160Zm220 220h160v-160H400v160Zm0 220h160v-160H400v160ZM180-400h160v-160H180v160Zm440 0h160v-160H620v160ZM180-180h160v-160H180v160Zm440 0h160v-160H620v160Z\"/>\n",
              "  </svg>\n",
              "    </button>\n",
              "\n",
              "  <style>\n",
              "    .colab-df-container {\n",
              "      display:flex;\n",
              "      gap: 12px;\n",
              "    }\n",
              "\n",
              "    .colab-df-convert {\n",
              "      background-color: #E8F0FE;\n",
              "      border: none;\n",
              "      border-radius: 50%;\n",
              "      cursor: pointer;\n",
              "      display: none;\n",
              "      fill: #1967D2;\n",
              "      height: 32px;\n",
              "      padding: 0 0 0 0;\n",
              "      width: 32px;\n",
              "    }\n",
              "\n",
              "    .colab-df-convert:hover {\n",
              "      background-color: #E2EBFA;\n",
              "      box-shadow: 0px 1px 2px rgba(60, 64, 67, 0.3), 0px 1px 3px 1px rgba(60, 64, 67, 0.15);\n",
              "      fill: #174EA6;\n",
              "    }\n",
              "\n",
              "    .colab-df-buttons div {\n",
              "      margin-bottom: 4px;\n",
              "    }\n",
              "\n",
              "    [theme=dark] .colab-df-convert {\n",
              "      background-color: #3B4455;\n",
              "      fill: #D2E3FC;\n",
              "    }\n",
              "\n",
              "    [theme=dark] .colab-df-convert:hover {\n",
              "      background-color: #434B5C;\n",
              "      box-shadow: 0px 1px 3px 1px rgba(0, 0, 0, 0.15);\n",
              "      filter: drop-shadow(0px 1px 2px rgba(0, 0, 0, 0.3));\n",
              "      fill: #FFFFFF;\n",
              "    }\n",
              "  </style>\n",
              "\n",
              "    <script>\n",
              "      const buttonEl =\n",
              "        document.querySelector('#df-73b82968-15cd-4f90-9f27-99f319308ffc button.colab-df-convert');\n",
              "      buttonEl.style.display =\n",
              "        google.colab.kernel.accessAllowed ? 'block' : 'none';\n",
              "\n",
              "      async function convertToInteractive(key) {\n",
              "        const element = document.querySelector('#df-73b82968-15cd-4f90-9f27-99f319308ffc');\n",
              "        const dataTable =\n",
              "          await google.colab.kernel.invokeFunction('convertToInteractive',\n",
              "                                                    [key], {});\n",
              "        if (!dataTable) return;\n",
              "\n",
              "        const docLinkHtml = 'Like what you see? Visit the ' +\n",
              "          '<a target=\"_blank\" href=https://colab.research.google.com/notebooks/data_table.ipynb>data table notebook</a>'\n",
              "          + ' to learn more about interactive tables.';\n",
              "        element.innerHTML = '';\n",
              "        dataTable['output_type'] = 'display_data';\n",
              "        await google.colab.output.renderOutput(dataTable, element);\n",
              "        const docLink = document.createElement('div');\n",
              "        docLink.innerHTML = docLinkHtml;\n",
              "        element.appendChild(docLink);\n",
              "      }\n",
              "    </script>\n",
              "  </div>\n",
              "\n",
              "\n",
              "<div id=\"df-f5f10ce2-a71f-4227-9c2f-992b4ec9f04e\">\n",
              "  <button class=\"colab-df-quickchart\" onclick=\"quickchart('df-f5f10ce2-a71f-4227-9c2f-992b4ec9f04e')\"\n",
              "            title=\"Suggest charts\"\n",
              "            style=\"display:none;\">\n",
              "\n",
              "<svg xmlns=\"http://www.w3.org/2000/svg\" height=\"24px\"viewBox=\"0 0 24 24\"\n",
              "     width=\"24px\">\n",
              "    <g>\n",
              "        <path d=\"M19 3H5c-1.1 0-2 .9-2 2v14c0 1.1.9 2 2 2h14c1.1 0 2-.9 2-2V5c0-1.1-.9-2-2-2zM9 17H7v-7h2v7zm4 0h-2V7h2v10zm4 0h-2v-4h2v4z\"/>\n",
              "    </g>\n",
              "</svg>\n",
              "  </button>\n",
              "\n",
              "<style>\n",
              "  .colab-df-quickchart {\n",
              "      --bg-color: #E8F0FE;\n",
              "      --fill-color: #1967D2;\n",
              "      --hover-bg-color: #E2EBFA;\n",
              "      --hover-fill-color: #174EA6;\n",
              "      --disabled-fill-color: #AAA;\n",
              "      --disabled-bg-color: #DDD;\n",
              "  }\n",
              "\n",
              "  [theme=dark] .colab-df-quickchart {\n",
              "      --bg-color: #3B4455;\n",
              "      --fill-color: #D2E3FC;\n",
              "      --hover-bg-color: #434B5C;\n",
              "      --hover-fill-color: #FFFFFF;\n",
              "      --disabled-bg-color: #3B4455;\n",
              "      --disabled-fill-color: #666;\n",
              "  }\n",
              "\n",
              "  .colab-df-quickchart {\n",
              "    background-color: var(--bg-color);\n",
              "    border: none;\n",
              "    border-radius: 50%;\n",
              "    cursor: pointer;\n",
              "    display: none;\n",
              "    fill: var(--fill-color);\n",
              "    height: 32px;\n",
              "    padding: 0;\n",
              "    width: 32px;\n",
              "  }\n",
              "\n",
              "  .colab-df-quickchart:hover {\n",
              "    background-color: var(--hover-bg-color);\n",
              "    box-shadow: 0 1px 2px rgba(60, 64, 67, 0.3), 0 1px 3px 1px rgba(60, 64, 67, 0.15);\n",
              "    fill: var(--button-hover-fill-color);\n",
              "  }\n",
              "\n",
              "  .colab-df-quickchart-complete:disabled,\n",
              "  .colab-df-quickchart-complete:disabled:hover {\n",
              "    background-color: var(--disabled-bg-color);\n",
              "    fill: var(--disabled-fill-color);\n",
              "    box-shadow: none;\n",
              "  }\n",
              "\n",
              "  .colab-df-spinner {\n",
              "    border: 2px solid var(--fill-color);\n",
              "    border-color: transparent;\n",
              "    border-bottom-color: var(--fill-color);\n",
              "    animation:\n",
              "      spin 1s steps(1) infinite;\n",
              "  }\n",
              "\n",
              "  @keyframes spin {\n",
              "    0% {\n",
              "      border-color: transparent;\n",
              "      border-bottom-color: var(--fill-color);\n",
              "      border-left-color: var(--fill-color);\n",
              "    }\n",
              "    20% {\n",
              "      border-color: transparent;\n",
              "      border-left-color: var(--fill-color);\n",
              "      border-top-color: var(--fill-color);\n",
              "    }\n",
              "    30% {\n",
              "      border-color: transparent;\n",
              "      border-left-color: var(--fill-color);\n",
              "      border-top-color: var(--fill-color);\n",
              "      border-right-color: var(--fill-color);\n",
              "    }\n",
              "    40% {\n",
              "      border-color: transparent;\n",
              "      border-right-color: var(--fill-color);\n",
              "      border-top-color: var(--fill-color);\n",
              "    }\n",
              "    60% {\n",
              "      border-color: transparent;\n",
              "      border-right-color: var(--fill-color);\n",
              "    }\n",
              "    80% {\n",
              "      border-color: transparent;\n",
              "      border-right-color: var(--fill-color);\n",
              "      border-bottom-color: var(--fill-color);\n",
              "    }\n",
              "    90% {\n",
              "      border-color: transparent;\n",
              "      border-bottom-color: var(--fill-color);\n",
              "    }\n",
              "  }\n",
              "</style>\n",
              "\n",
              "  <script>\n",
              "    async function quickchart(key) {\n",
              "      const quickchartButtonEl =\n",
              "        document.querySelector('#' + key + ' button');\n",
              "      quickchartButtonEl.disabled = true;  // To prevent multiple clicks.\n",
              "      quickchartButtonEl.classList.add('colab-df-spinner');\n",
              "      try {\n",
              "        const charts = await google.colab.kernel.invokeFunction(\n",
              "            'suggestCharts', [key], {});\n",
              "      } catch (error) {\n",
              "        console.error('Error during call to suggestCharts:', error);\n",
              "      }\n",
              "      quickchartButtonEl.classList.remove('colab-df-spinner');\n",
              "      quickchartButtonEl.classList.add('colab-df-quickchart-complete');\n",
              "    }\n",
              "    (() => {\n",
              "      let quickchartButtonEl =\n",
              "        document.querySelector('#df-f5f10ce2-a71f-4227-9c2f-992b4ec9f04e button');\n",
              "      quickchartButtonEl.style.display =\n",
              "        google.colab.kernel.accessAllowed ? 'block' : 'none';\n",
              "    })();\n",
              "  </script>\n",
              "</div>\n",
              "\n",
              "  <div id=\"id_23ca4bf1-0a40-40d0-b3c7-7c776be97c95\">\n",
              "    <style>\n",
              "      .colab-df-generate {\n",
              "        background-color: #E8F0FE;\n",
              "        border: none;\n",
              "        border-radius: 50%;\n",
              "        cursor: pointer;\n",
              "        display: none;\n",
              "        fill: #1967D2;\n",
              "        height: 32px;\n",
              "        padding: 0 0 0 0;\n",
              "        width: 32px;\n",
              "      }\n",
              "\n",
              "      .colab-df-generate:hover {\n",
              "        background-color: #E2EBFA;\n",
              "        box-shadow: 0px 1px 2px rgba(60, 64, 67, 0.3), 0px 1px 3px 1px rgba(60, 64, 67, 0.15);\n",
              "        fill: #174EA6;\n",
              "      }\n",
              "\n",
              "      [theme=dark] .colab-df-generate {\n",
              "        background-color: #3B4455;\n",
              "        fill: #D2E3FC;\n",
              "      }\n",
              "\n",
              "      [theme=dark] .colab-df-generate:hover {\n",
              "        background-color: #434B5C;\n",
              "        box-shadow: 0px 1px 3px 1px rgba(0, 0, 0, 0.15);\n",
              "        filter: drop-shadow(0px 1px 2px rgba(0, 0, 0, 0.3));\n",
              "        fill: #FFFFFF;\n",
              "      }\n",
              "    </style>\n",
              "    <button class=\"colab-df-generate\" onclick=\"generateWithVariable('df')\"\n",
              "            title=\"Generate code using this dataframe.\"\n",
              "            style=\"display:none;\">\n",
              "\n",
              "  <svg xmlns=\"http://www.w3.org/2000/svg\" height=\"24px\"viewBox=\"0 0 24 24\"\n",
              "       width=\"24px\">\n",
              "    <path d=\"M7,19H8.4L18.45,9,17,7.55,7,17.6ZM5,21V16.75L18.45,3.32a2,2,0,0,1,2.83,0l1.4,1.43a1.91,1.91,0,0,1,.58,1.4,1.91,1.91,0,0,1-.58,1.4L9.25,21ZM18.45,9,17,7.55Zm-12,3A5.31,5.31,0,0,0,4.9,8.1,5.31,5.31,0,0,0,1,6.5,5.31,5.31,0,0,0,4.9,4.9,5.31,5.31,0,0,0,6.5,1,5.31,5.31,0,0,0,8.1,4.9,5.31,5.31,0,0,0,12,6.5,5.46,5.46,0,0,0,6.5,12Z\"/>\n",
              "  </svg>\n",
              "    </button>\n",
              "    <script>\n",
              "      (() => {\n",
              "      const buttonEl =\n",
              "        document.querySelector('#id_23ca4bf1-0a40-40d0-b3c7-7c776be97c95 button.colab-df-generate');\n",
              "      buttonEl.style.display =\n",
              "        google.colab.kernel.accessAllowed ? 'block' : 'none';\n",
              "\n",
              "      buttonEl.onclick = () => {\n",
              "        google.colab.notebook.generateWithVariable('df');\n",
              "      }\n",
              "      })();\n",
              "    </script>\n",
              "  </div>\n",
              "\n",
              "    </div>\n",
              "  </div>\n"
            ],
            "application/vnd.google.colaboratory.intrinsic+json": {
              "type": "dataframe",
              "variable_name": "df"
            }
          },
          "metadata": {},
          "execution_count": 7
        }
      ]
    },
    {
      "cell_type": "markdown",
      "source": [
        "## TF-IDF"
      ],
      "metadata": {
        "id": "rLFKSWtDnIXp"
      }
    },
    {
      "cell_type": "markdown",
      "source": [
        "Esta ferramenta, transforma palavras em valores numéricos com pesos, o que chamamos de **vetorização**.\n",
        "\n",
        "O output de uma transformação para TF-IDF é uma séie de colunas para cada palavra do DataFrame, com cada palavra tendo um peso diferente, ajudando o modelo a entender quais colunas(palavras), são relevantes para aquela label."
      ],
      "metadata": {
        "id": "muNlTFinmzab"
      }
    },
    {
      "cell_type": "markdown",
      "source": [
        "![image.png](data:image/png;base64,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)"
      ],
      "metadata": {
        "id": "4LH6kbB8nC3l"
      }
    },
    {
      "cell_type": "code",
      "source": [
        "# Transformar os textos em vetores TF-IDF\n",
        "tfidf = TfidfVectorizer(max_features=1000)\n",
        "X = tfidf.fit_transform(df['clean_text'])\n",
        "\n",
        "# O alvo é a coluna 'target'\n",
        "y = df['target']\n",
        "\n",
        "# Binarização das saidas\n",
        "y_binary = label_binarize(y, classes=[0, 4]).reshape(-1)"
      ],
      "metadata": {
        "id": "5IxY52npDIt5"
      },
      "execution_count": null,
      "outputs": []
    },
    {
      "cell_type": "markdown",
      "source": [
        "> Divisão do DataSet em *treino* e *teste*."
      ],
      "metadata": {
        "id": "jrBk9ud8C604"
      }
    },
    {
      "cell_type": "code",
      "source": [
        "# Dividir os dados em conjuntos de treino e teste\n",
        "X_train, X_test, y_train, y_test = train_test_split(X, y_binary, test_size=0.2, random_state=42)\n",
        "print(\"Tamanho do conjunto de treino:\", X_train.shape)\n",
        "print(\"Tamanho do conjunto de teste:\", X_test.shape)"
      ],
      "metadata": {
        "id": "mtSq5fbCDHzw",
        "colab": {
          "base_uri": "https://localhost:8080/"
        },
        "outputId": "12893e1b-9a4b-4d5f-80c2-43fb37b8375e"
      },
      "execution_count": null,
      "outputs": [
        {
          "output_type": "stream",
          "name": "stdout",
          "text": [
            "Tamanho do conjunto de treino: (1274049, 1000)\n",
            "Tamanho do conjunto de teste: (318513, 1000)\n"
          ]
        }
      ]
    },
    {
      "cell_type": "markdown",
      "source": [
        "> Treinamento dos modelos"
      ],
      "metadata": {
        "id": "2dR4VsmEDh3m"
      }
    },
    {
      "cell_type": "code",
      "execution_count": null,
      "metadata": {
        "id": "gYUjACf5nfzK",
        "colab": {
          "base_uri": "https://localhost:8080/"
        },
        "outputId": "8eb2a7ee-7af7-42c6-cc35-8c8910b172f7"
      },
      "outputs": [
        {
          "output_type": "stream",
          "name": "stdout",
          "text": [
            "Treinando o modelo: Naive Bayes\n",
            "Acurácia do modelo Naive Bayes: 0.7325540872743028\n",
            "Treinando o modelo: Logistic Regression\n",
            "Acurácia do modelo Logistic Regression: 0.7484027339543441\n",
            "Treinando o modelo: Neural Network\n",
            "Acurácia do modelo Neural Network: 0.759300248341512\n"
          ]
        }
      ],
      "source": [
        "# Definir os modelos\n",
        "models = {\n",
        "    \"Naive Bayes\": MultinomialNB(),\n",
        "    \"Logistic Regression\": LogisticRegression(max_iter=400), # 400 pra ter certeza q vai convergir\n",
        "    \"Neural Network\": MLPClassifier(max_iter=100, early_stopping=True)\n",
        "}\n",
        "\n",
        "melhores_estimadores = {}\n",
        "\n",
        "# Treinamento e avaliação de cada modelo\n",
        "for model_name, model in models.items():\n",
        "    print(f\"Treinando o modelo: {model_name}\")\n",
        "\n",
        "    model.fit(X_train, y_train)\n",
        "\n",
        "    y_pred = model.predict(X_test)\n",
        "    accuracy = accuracy_score(y_test, y_pred)\n",
        "\n",
        "    print(f\"Acurácia do modelo {model_name}: {accuracy}\")\n",
        "\n",
        "    melhores_estimadores[model_name] = model"
      ]
    },
    {
      "cell_type": "markdown",
      "source": [
        "## Validação Cruzada e Hiperparâmetros"
      ],
      "metadata": {
        "id": "d11Qj0IqUymM"
      }
    },
    {
      "cell_type": "markdown",
      "source": [
        "> Após a avaliação dos modelos, o escolhido foi a Regressão Logística, pelo tempo de processamento e desempenho.\n",
        "\n",
        "> Agora, resta realizar uma validação cruzada com diferentes hiperparâmetros e, enfim, encontrar a melhor combinação para o treinamento do modelo."
      ],
      "metadata": {
        "id": "tY9-UmOxBkxT"
      }
    },
    {
      "cell_type": "code",
      "source": [
        "# hiperparâmetros a serem testados\n",
        "param_grids = {\n",
        "    \"Logistic Regression\": {\n",
        "        'C': [0.01, 0.1, 1],\n",
        "        'solver': ['sag', 'newton-cg'],\n",
        "        'penalty': ['l2']\n",
        "    }\n",
        "}"
      ],
      "metadata": {
        "id": "WkwPPsPcBv6T"
      },
      "execution_count": null,
      "outputs": []
    },
    {
      "cell_type": "code",
      "source": [
        "kf = KFold(n_splits=5, shuffle=True, random_state=42)\n",
        "\n",
        "grid_search = GridSearchCV(models['Logistic Regression'], param_grids['Logistic Regression'], cv=kf, scoring='accuracy', n_jobs=-1)\n",
        "grid_search.fit(X_train, y_train)\n",
        "\n",
        "print(f\"Melhores Hiperparâmetros para Regressão Logistica: {grid_search.best_params_}\")\n",
        "\n",
        "melhor_modelo = grid_search.best_estimator_"
      ],
      "metadata": {
        "id": "Q6Bwt7xqewt5",
        "colab": {
          "base_uri": "https://localhost:8080/"
        },
        "outputId": "d52108d5-2e8e-4475-91f7-207478b34eb5"
      },
      "execution_count": null,
      "outputs": [
        {
          "output_type": "stream",
          "name": "stdout",
          "text": [
            "Melhores Hiperparâmetros para Regressão Logistica: {'C': 1, 'penalty': 'l2', 'solver': 'newton-cg'}\n"
          ]
        }
      ]
    },
    {
      "cell_type": "markdown",
      "source": [
        "## Avaliação do modelo"
      ],
      "metadata": {
        "id": "uLF-Eo4oqhp3"
      }
    },
    {
      "cell_type": "markdown",
      "source": [
        "Métricas por matrix de confusão:"
      ],
      "metadata": {
        "id": "AX_zZcV94BE5"
      }
    },
    {
      "cell_type": "code",
      "source": [
        "from sklearn.metrics import accuracy_score, precision_score, recall_score, f1_score, classification_report\n",
        "import seaborn as sns\n",
        "import matplotlib.pyplot as plt\n",
        "from sklearn.metrics import confusion_matrix\n",
        "y_pred = melhor_modelo.predict(X_test)\n",
        "\n",
        "accuracy = accuracy_score(y_test, y_pred)\n",
        "precision = precision_score(y_test, y_pred, average='weighted')\n",
        "recall = recall_score(y_test, y_pred, average='weighted')\n",
        "f1 = f1_score(y_test, y_pred, average='weighted')\n",
        "report = classification_report(y_test, y_pred)\n",
        "sns.heatmap(confusion_matrix(y_test, y_pred), annot=True, fmt='d', cmap='rocket')\n",
        "plt.xlabel('Valores Preditos')\n",
        "plt.ylabel('Valores Reais')\n",
        "plt.title('Matriz de Confusão')\n",
        "plt.show()\n",
        "\n",
        "print(\"Regressão Logistica:\")\n",
        "print(f\"Acurácia: {accuracy:.4f}, Precisão: {precision:.4f}, Recall: {recall:.4f}, F1-Score: {f1:.4f}\\n\")\n",
        "print(\"Relatório de Classificação:\\n\", report)"
      ],
      "metadata": {
        "id": "XtedYDQyq1j4",
        "colab": {
          "base_uri": "https://localhost:8080/",
          "height": 698
        },
        "outputId": "e2226405-647b-43f1-deb6-16f5313b973a"
      },
      "execution_count": null,
      "outputs": [
        {
          "output_type": "display_data",
          "data": {
            "text/plain": [
              "<Figure size 640x480 with 2 Axes>"
            ],
            "image/png": "[encoded data removed]"
          },
          "metadata": {}
        },
        {
          "output_type": "stream",
          "name": "stdout",
          "text": [
            "Regressão Logistica:\n",
            "Acurácia: 0.7483, Precisão: 0.7490, Recall: 0.7483, F1-Score: 0.7481\n",
            "\n",
            "Relatório de Classificação:\n",
            "               precision    recall  f1-score   support\n",
            "\n",
            "           0       0.76      0.72      0.74    158775\n",
            "           1       0.74      0.78      0.76    159738\n",
            "\n",
            "    accuracy                           0.75    318513\n",
            "   macro avg       0.75      0.75      0.75    318513\n",
            "weighted avg       0.75      0.75      0.75    318513\n",
            "\n"
          ]
        }
      ]
    },
    {
      "cell_type": "markdown",
      "source": [
        "# Plotando a Matrix de Confusão e Curva ROC"
      ],
      "metadata": {
        "id": "wnWMPqU49nfc"
      }
    },
    {
      "cell_type": "markdown",
      "source": [
        "> Curva ROC e AUC"
      ],
      "metadata": {
        "id": "gFjODkIMDvP2"
      }
    },
    {
      "cell_type": "code",
      "source": [
        "from sklearn.metrics import roc_curve, roc_auc_score\n",
        "import matplotlib.pyplot as plt\n",
        "\n",
        "# armazena os valores de metricas retornados pela função.\n",
        "fpr, tpr, thresholds = roc_curve(y_test, y_pred)\n",
        "# armazena a área sob curva\n",
        "roc_auc = roc_auc_score(y_test, y_pred)\n",
        "\n",
        "plt.figure()\n",
        "plt.plot([0, 1], [0, 1], color='navy', lw=2, linestyle='--')\n",
        "plt.plot(fpr, tpr, color='darkorange', lw=2, label='curva ROC (área = %0.2f)' % roc_auc)\n",
        "plt.xlabel('False Positive Rate')\n",
        "plt.ylabel('True Positive Rate')\n",
        "plt.title('Curva ROC')\n",
        "plt.legend(loc=\"lower right\")\n",
        "plt.show()"
      ],
      "metadata": {
        "id": "hv2zQ7jC97ry",
        "colab": {
          "base_uri": "https://localhost:8080/",
          "height": 472
        },
        "outputId": "a824faba-13d9-40cc-dc21-69a020ebb067"
      },
      "execution_count": null,
      "outputs": [
        {
          "output_type": "display_data",
          "data": {
            "text/plain": [
              "<Figure size 640x480 with 1 Axes>"
            ],
            "image/png": "[encoded data removed]"
          },
          "metadata": {}
        }
      ]
    },
    {
      "cell_type": "markdown",
      "source": [
        "> Matriz de Confusão"
      ],
      "metadata": {
        "id": "Wfla-tCe9xnL"
      }
    },
    {
      "cell_type": "code",
      "source": [
        "from sklearn.metrics import confusion_matrix\n",
        "\n",
        "# puxando os dados de tp, tn, fp e fn\n",
        "cm = confusion_matrix(y_test, y_pred)\n",
        "\n",
        "# plotando a matrix\n",
        "plt.figure(figsize=(8, 6))\n",
        "sns.heatmap(cm, annot=True, fmt='d', cmap='Blues',\n",
        "            xticklabels=['Negativo', 'Positivo'],\n",
        "            yticklabels=['Negativo', 'Positivo'])\n",
        "plt.xlabel('Valores Preditos')\n",
        "plt.ylabel('Valores Reais')\n",
        "plt.title('Matriz de Confusão')\n",
        "plt.show()"
      ],
      "metadata": {
        "id": "eaBGLGMS9xPh",
        "colab": {
          "base_uri": "https://localhost:8080/",
          "height": 564
        },
        "outputId": "5aa21dc3-7831-44e6-c09d-cfb69568769e"
      },
      "execution_count": null,
      "outputs": [
        {
          "output_type": "display_data",
          "data": {
            "text/plain": [
              "<Figure size 800x600 with 2 Axes>"
            ],
            "image/png": "[encoded data removed]"
          },
          "metadata": {}
        }
      ]
    },
    {
      "cell_type": "markdown",
      "source": [
        "# Exportando o modelo"
      ],
      "metadata": {
        "id": "m2zhjM6bpg8P"
      }
    },
    {
      "cell_type": "markdown",
      "source": [
        "Usando a biblioteca **joblib**, é possivel fazer o export de modelos que realizam o treinamento com grandes arrays de forma simples.\n",
        "\n",
        "Além do modelo já treinado, também exportamos o objeto da classe **tfidf**.\n",
        "\n",
        "- Isso é mecessário, pois para novos inputs, o tfidf precisa calcular o pesso das novas palavras em relação as mesmas já usadas no treinamento do nosso modelo."
      ],
      "metadata": {
        "id": "ah4eEMEXpjAy"
      }
    },
    {
      "cell_type": "code",
      "source": [
        "import joblib\n",
        "\n",
        "model = melhor_modelo\n",
        "\n",
        "# salvar o modelo em um arquivo .pkl\n",
        "joblib.dump(model, 'modelo.pkl')\n",
        "\n",
        "joblib.dump(tfidf, 'vetor_tfidf.pkl')\n",
        "\n",
        "# e para ara carregar o modelo novamente\n",
        "model_carregado = joblib.load('modelo.pkl')\n"
      ],
      "metadata": {
        "id": "_1JwKzAbpuZ8"
      },
      "execution_count": null,
      "outputs": []
    },
    {
      "cell_type": "markdown",
      "source": [
        "- **Sobre arquivos `.pkl`:** O .pkl é a extensão de arquivo associada ao formato de serialização pickle no Python. O pickle é um módulo do Python que permite serializar (converter) objetos Python em uma sequência de bytes que pode ser armazenada em um arquivo. Esse arquivo pode então ser carregado posteriormente, recriando o objeto original."
      ],
      "metadata": {
        "id": "nv6rhDtlrEA-"
      }
    }
  ]
}